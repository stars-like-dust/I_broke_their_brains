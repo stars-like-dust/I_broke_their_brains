{
 "cells": [
  {
   "cell_type": "code",
   "execution_count": 17,
   "metadata": {},
   "outputs": [],
   "source": [
    "# Dependencies\n",
    "import tweepy\n",
    "import numpy as np\n",
    "import pandas as pd\n",
    "import matplotlib.pyplot as plt\n",
    "import json\n",
    "\n",
    "\n",
    "# Import and Initialize Sentiment Analyzer\n",
    "from vaderSentiment.vaderSentiment import SentimentIntensityAnalyzer\n",
    "analyzer = SentimentIntensityAnalyzer()\n",
    "\n",
    "# Twitter API Keys\n",
    "from config import (consumer_key,\n",
    "                    consumer_secret,\n",
    "                    access_token,\n",
    "                    access_token_secret)\n",
    "\n",
    "# Setup Tweepy API Authentication\n",
    "auth = tweepy.OAuthHandler(consumer_key, consumer_secret)\n",
    "auth.set_access_token(access_token, access_token_secret)\n",
    "api = tweepy.API(auth, parser=tweepy.parsers.JSONParser())"
   ]
  },
  {
   "cell_type": "code",
   "execution_count": 18,
   "metadata": {},
   "outputs": [
    {
     "name": "stdout",
     "output_type": "stream",
     "text": [
      "User: @BBC\n",
      "Compound: 0.305\n",
      "20\n",
      "---------------------------------\n",
      "User: @CBS\n",
      "Compound: 0.302\n",
      "20\n",
      "---------------------------------\n",
      "User: @CNN\n",
      "Compound: 0.176\n",
      "20\n",
      "---------------------------------\n",
      "User: @Fox\n",
      "Compound: 0.224\n",
      "20\n",
      "---------------------------------\n",
      "User: @nytimes\n",
      "Compound: 0.080\n",
      "20\n",
      "---------------------------------\n"
     ]
    }
   ],
   "source": [
    "# Target User Accounts\n",
    "target_user = ('@BBC', '@CBS', '@CNN', '@Fox', '@nytimes')\n",
    "\n",
    "# List for dictionaries of results\n",
    "results_list = []\n",
    "\n",
    "counter = 0\n",
    "target_index = 0\n",
    "counter_count={}\n",
    "# Loop through each user\n",
    "for user in target_user:\n",
    "    \n",
    "    counter = 0\n",
    "    #THIS IS THE TICKET!!!!\n",
    "    \n",
    "    \n",
    "    # Variables for holding sentiments\n",
    "    compound_list = []\n",
    "    positive_list = []\n",
    "    negative_list = []\n",
    "    neutral_list = []\n",
    "    counter_list = []\n",
    "\n",
    "    # Loop through 10 pages of tweets (total 200 tweets)\n",
    "    for x in range(1, 2):\n",
    "\n",
    "        # Get all tweets from home feed\n",
    "        public_tweets = api.user_timeline(user, page=x)\n",
    "\n",
    "        # Loop through all tweets\n",
    "        for tweet in public_tweets:\n",
    "\n",
    "            # Run Vader Analysis on each tweet\n",
    "            results = analyzer.polarity_scores(tweet[\"text\"])\n",
    "            compound = results[\"compound\"]\n",
    "            \n",
    "            # Add each value to the appropriate list\n",
    "            compound_list.append(compound)\n",
    "            \n",
    "            counter_list.append(counter+1)\n",
    "            \n",
    "            #if counter > 20:\n",
    "                #counter = 0\n",
    "            #else:\n",
    "                \n",
    "            counter = counter + 1    \n",
    "\n",
    "    counter_count[user]=counter\n",
    "\n",
    "    # Create a dictionaty of results\n",
    "    user_results = {\n",
    "        \"Username\": user,\n",
    "        \"Tweet Number\" : counter_list,\n",
    "        \"Compound Score\": compound_list,\n",
    "    }\n",
    "\n",
    "    # Append dictionary to list\n",
    "    results_list.append(user_results)\n",
    "\n",
    "    # Print the Averages\n",
    "    print(f\"User: {user}\")\n",
    "    print(f\"Compound: {np.mean(compound_list):.3f}\")\n",
    "    print(counter_count[user])\n",
    "    print('---------------------------------')"
   ]
  },
  {
   "cell_type": "code",
   "execution_count": 19,
   "metadata": {},
   "outputs": [
    {
     "name": "stdout",
     "output_type": "stream",
     "text": [
      "[{'Username': '@BBC', 'Tweet Number': [1, 2, 3, 4, 5, 6, 7, 8, 9, 10, 11, 12, 13, 14, 15, 16, 17, 18, 19, 20], 'Compound Score': [0.0, 0.0, 0.8625, 0.7717, -0.8338, 0.7269, 0.6763, 0.4939, 0.0, 0.4588, -0.5632, 0.0, 0.3612, 0.8402, 0.0, 0.4939, 0.0, 0.5719, 0.6369, 0.5994]}, {'Username': '@CBS', 'Tweet Number': [1, 2, 3, 4, 5, 6, 7, 8, 9, 10, 11, 12, 13, 14, 15, 16, 17, 18, 19, 20], 'Compound Score': [0.0, -0.3818, 0.3182, 0.4019, 0.7777, 0.3612, 0.3182, 0.0, 0.0, 0.5411, 0.0, 0.7574, 0.5574, 0.1867, 0.4199, 0.4926, 0.3555, 0.0, 0.0, 0.9392]}, {'Username': '@CNN', 'Tweet Number': [1, 2, 3, 4, 5, 6, 7, 8, 9, 10, 11, 12, 13, 14, 15, 16, 17, 18, 19, 20], 'Compound Score': [0.3818, 0.6204, 0.8126, 0.5719, 0.0, 0.0, 0.6597, 0.0, -0.5267, 0.765, 0.0772, -0.2023, 0.4404, 0.3182, 0.5574, -0.7311, 0.7096, -0.2732, 0.0, -0.6705]}, {'Username': '@Fox', 'Tweet Number': [1, 2, 3, 4, 5, 6, 7, 8, 9, 10, 11, 12, 13, 14, 15, 16, 17, 18, 19, 20], 'Compound Score': [0.4926, -0.0516, 0.5707, 0.4404, 0.4738, 0.0, 0.8718, 0.3612, 0.4926, 0.2942, -0.2075, 0.4404, 0.6588, 0.0, 0.5574, -0.7096, 0.5106, 0.0, -0.4576, -0.25]}, {'Username': '@nytimes', 'Tweet Number': [1, 2, 3, 4, 5, 6, 7, 8, 9, 10, 11, 12, 13, 14, 15, 16, 17, 18, 19, 20], 'Compound Score': [0.6249, 0.5574, 0.4404, -0.4019, -0.2023, 0.2023, 0.0, 0.6249, 0.4404, -0.5095, -0.5994, 0.0, 0.0, -0.5574, 0.5106, -0.8511, 0.4767, 0.0, 0.4215, 0.4215]}]\n"
     ]
    }
   ],
   "source": [
    "print(results_list)"
   ]
  },
  {
   "cell_type": "code",
   "execution_count": 46,
   "metadata": {},
   "outputs": [
    {
     "name": "stdout",
     "output_type": "stream",
     "text": [
      "{'@BBC': [[1, 2, 3, 4, 5, 6, 7, 8, 9, 10, 11, 12, 13, 14, 15, 16, 17, 18, 19, 20], [0.0, 0.0, 0.8625, 0.7717, -0.8338, 0.7269, 0.6763, 0.4939, 0.0, 0.4588, -0.5632, 0.0, 0.3612, 0.8402, 0.0, 0.4939, 0.0, 0.5719, 0.6369, 0.5994]], '@CBS': [[1, 2, 3, 4, 5, 6, 7, 8, 9, 10, 11, 12, 13, 14, 15, 16, 17, 18, 19, 20], [0.0, -0.3818, 0.3182, 0.4019, 0.7777, 0.3612, 0.3182, 0.0, 0.0, 0.5411, 0.0, 0.7574, 0.5574, 0.1867, 0.4199, 0.4926, 0.3555, 0.0, 0.0, 0.9392]], '@CNN': [[1, 2, 3, 4, 5, 6, 7, 8, 9, 10, 11, 12, 13, 14, 15, 16, 17, 18, 19, 20], [0.3818, 0.6204, 0.8126, 0.5719, 0.0, 0.0, 0.6597, 0.0, -0.5267, 0.765, 0.0772, -0.2023, 0.4404, 0.3182, 0.5574, -0.7311, 0.7096, -0.2732, 0.0, -0.6705]], '@Fox': [[1, 2, 3, 4, 5, 6, 7, 8, 9, 10, 11, 12, 13, 14, 15, 16, 17, 18, 19, 20], [0.4926, -0.0516, 0.5707, 0.4404, 0.4738, 0.0, 0.8718, 0.3612, 0.4926, 0.2942, -0.2075, 0.4404, 0.6588, 0.0, 0.5574, -0.7096, 0.5106, 0.0, -0.4576, -0.25]], '@nytimes': [[1, 2, 3, 4, 5, 6, 7, 8, 9, 10, 11, 12, 13, 14, 15, 16, 17, 18, 19, 20], [0.6249, 0.5574, 0.4404, -0.4019, -0.2023, 0.2023, 0.0, 0.6249, 0.4404, -0.5095, -0.5994, 0.0, 0.0, -0.5574, 0.5106, -0.8511, 0.4767, 0.0, 0.4215, 0.4215]]}\n",
      "@BBC\n",
      "@CBS\n",
      "@CNN\n",
      "@Fox\n",
      "@nytimes\n",
      "[['@nytimes', 5, -0.2023], ['@nytimes', 5, -0.2023], ['@nytimes', 5, -0.2023], ['@nytimes', 5, -0.2023], ['@nytimes', 5, -0.2023]]\n"
     ]
    }
   ],
   "source": [
    "#station name, compound score, tweet count\n",
    "#print(json.dumps(results_list, indent=4))\n",
    "\n",
    "\n",
    "#BBC    1 .    0.8373\n",
    "#BBC .  2 .    0.4843\n",
    "\n",
    "# create list... [0][1][2]\n",
    "# append \n",
    "\n",
    "tweet_df = {}\n",
    "tweet_list = []\n",
    "list_recs = [None,None,None]\n",
    "\n",
    "username = {}\n",
    "tweet_number = {}\n",
    "compound_score = {}\n",
    "\n",
    "i = 0\n",
    "\n",
    "for result in results_list:\n",
    "    #print(results_list[0].keys())\n",
    "    username[\"Username\"] = result[\"Username\"]\n",
    "    tweet_number[\"Tweet Number\"] = result[\"Tweet Number\"]\n",
    "    compound_score[\"Compound Score\"] = result[\"Compound Score\"]\n",
    "    #print(tweet_df)\n",
    "    #print(result.keys())\n",
    "    \n",
    "print(username)\n",
    "print(tweet_number)\n",
    "print(compound_score)\n",
    "\n",
    "i = 0\n",
    "\n",
    "\n",
    "\n",
    "for user in username:\n",
    "    list_recs[0] = user\n",
    "    list_recs[1] = tweet_number[\"Tweet Number\"][i]\n",
    "    list_recs[2] = compound_score[\"Compound Score\"][i]\n",
    "    \n",
    "    tweet_list.append(list_recs)\n",
    "    \n",
    "    i = i + 1\n",
    "\n",
    "print(tweet_list)\n",
    "\n",
    "# Create DataFrame from Results List\n",
    "results_df = pd.DataFrame(results_list).set_index(\"Username\").round(3)\n",
    "\n",
    "other_result=pd.DataFrame()\n",
    "\n",
    "#for a in results_list[0]:\n",
    "#    count=0\n",
    "#    for tweet in a['Tweet Number']:\n",
    "#        other_result.append(other_result,{'Username':a['Username'],'Tweet Number':tweet,'Compound Score':a['Compound Score'][tweet-1])\n",
    "        \n",
    "#print(other_result)\n",
    "                                          \n",
    "#print(results_df) \n",
    "#print('------')\n",
    "                                          "
   ]
  },
  {
   "cell_type": "code",
   "execution_count": null,
   "metadata": {
    "scrolled": false
   },
   "outputs": [],
   "source": [
    "#DF = pd.DataFrame({'Username': results_df[\"Username\"], 'Compound Score': results_df[\"Compound Score\"], 'Tweet Number': results_df[\"Tweet Number\"]})\n",
    "print(len(DF))\n",
    "DF.head(500)"
   ]
  },
  {
   "cell_type": "code",
   "execution_count": null,
   "metadata": {
    "scrolled": false
   },
   "outputs": [],
   "source": [
    "#Isolate the NY Times tweets\n",
    "New_york_times = DF.iloc[0:25]\n",
    "print(len(New_york_times))\n",
    "print(New_york_times)"
   ]
  },
  {
   "cell_type": "code",
   "execution_count": null,
   "metadata": {},
   "outputs": [],
   "source": []
  },
  {
   "cell_type": "code",
   "execution_count": null,
   "metadata": {},
   "outputs": [],
   "source": [
    "dotSize=10\n",
    "alphaC=.40\n",
    "dotSizeL=30\n",
    "\n",
    "# Incorporate the other graph properties\n",
    "#Urban\n",
    "plt.scatter(results_df['Compound Score'], \n",
    "            results_df['Tweet Number'], \n",
    "            s=dotSize, c=\"DodgerBlue\", \n",
    "            edgecolor=\"black\", linewidths=1, marker=\"o\", \n",
    "            alpha=alphaC, label=\"Urban\")\n",
    "\n",
    "plt.show()"
   ]
  },
  {
   "cell_type": "code",
   "execution_count": null,
   "metadata": {},
   "outputs": [],
   "source": []
  }
 ],
 "metadata": {
  "kernelspec": {
   "display_name": "Python 3",
   "language": "python",
   "name": "python3"
  },
  "language_info": {
   "codemirror_mode": {
    "name": "ipython",
    "version": 3
   },
   "file_extension": ".py",
   "mimetype": "text/x-python",
   "name": "python",
   "nbconvert_exporter": "python",
   "pygments_lexer": "ipython3",
   "version": "3.6.4"
  },
  "varInspector": {
   "cols": {
    "lenName": 16,
    "lenType": 16,
    "lenVar": 40
   },
   "kernels_config": {
    "python": {
     "delete_cmd_postfix": "",
     "delete_cmd_prefix": "del ",
     "library": "var_list.py",
     "varRefreshCmd": "print(var_dic_list())"
    },
    "r": {
     "delete_cmd_postfix": ") ",
     "delete_cmd_prefix": "rm(",
     "library": "var_list.r",
     "varRefreshCmd": "cat(var_dic_list()) "
    }
   },
   "types_to_exclude": [
    "module",
    "function",
    "builtin_function_or_method",
    "instance",
    "_Feature"
   ],
   "window_display": false
  }
 },
 "nbformat": 4,
 "nbformat_minor": 2
}
